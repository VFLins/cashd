{
 "cells": [
  {
   "cell_type": "code",
   "execution_count": 2,
   "metadata": {},
   "outputs": [],
   "source": [
    "from datetime import datetime\n",
    "import plotly.graph_objects as pg\n",
    "import plotly.express as px\n",
    "import plotly.io as pio\n",
    "import pandas as pd\n",
    "import locale\n",
    "locale.setlocale(locale.LC_TIME, \"\")\n",
    "\n",
    "\n",
    "from cashd import db\n",
    "\n",
    "CORES = [\"#478eff\", \"gray\"]"
   ]
  },
  {
   "cell_type": "markdown",
   "metadata": {},
   "source": [
    "Este notebook será usado para experimentar e desenvolver visualizações de maneira mais eficiente."
   ]
  },
  {
   "cell_type": "code",
   "execution_count": 3,
   "metadata": {},
   "outputs": [
    {
     "data": {
      "text/plain": [
       "63   2024-03-24\n",
       "64   2024-03-31\n",
       "65   2024-04-07\n",
       "66   2024-04-14\n",
       "67   2024-04-21\n",
       "68   2024-04-28\n",
       "69   2024-05-05\n",
       "70   2024-05-12\n",
       "71   2024-05-19\n",
       "72   2024-05-26\n",
       "Name: Data, dtype: datetime64[ns]"
      ]
     },
     "execution_count": 3,
     "metadata": {},
     "output_type": "execute_result"
    }
   ],
   "source": [
    "periodo = \"sem\"\n",
    "n = 10\n",
    "\n",
    "tbl = db.saldos_transac_periodo(periodo=periodo, n=n)\n",
    "tbl[\"Data\"].apply(lambda x: datetime.strptime(x+\"-0\", \"%Y-%W-%w\"))"
   ]
  },
  {
   "cell_type": "code",
   "execution_count": 10,
   "metadata": {},
   "outputs": [
    {
     "data": {
      "application/vnd.plotly.v1+json": {
       "config": {
        "displayModeBar": false,
        "plotlyServerURL": "https://plot.ly"
       },
       "data": [
        {
         "customdata": [
          [
           "1 901,80"
          ],
          [
           "1 679,70"
          ],
          [
           "1 373,30"
          ],
          [
           "1 052,20"
          ],
          [
           "1 007,10"
          ],
          [
           "132,50"
          ],
          [
           "412,50"
          ],
          [
           "1 100,60"
          ],
          [
           "1 583,90"
          ],
          [
           "561,80"
          ],
          [
           "1 537,50"
          ],
          [
           "611,70"
          ],
          [
           "910,10"
          ],
          [
           "1 907,20"
          ],
          [
           "1 648,90"
          ],
          [
           "1 525,60"
          ],
          [
           "825,80"
          ],
          [
           "166,10"
          ],
          [
           "1 364,10"
          ],
          [
           "2 091,30"
          ],
          [
           "219,10"
          ],
          [
           "914,60"
          ],
          [
           "485,70"
          ],
          [
           "108,80"
          ],
          [
           "720,00"
          ],
          [
           "1 875,08"
          ],
          [
           "843,60"
          ],
          [
           "1 007,40"
          ],
          [
           "745,30"
          ],
          [
           "122,90"
          ]
         ],
         "hovertemplate": "<b>R$ %{customdata[0]}</b>",
         "marker": {
          "color": "gray"
         },
         "name": "Somas",
         "offsetgroup": "0",
         "type": "bar",
         "x": [
          "2024-04-18T00:00:00",
          "2024-04-19T00:00:00",
          "2024-04-20T00:00:00",
          "2024-04-22T00:00:00",
          "2024-04-23T00:00:00",
          "2024-04-24T00:00:00",
          "2024-04-25T00:00:00",
          "2024-04-26T00:00:00",
          "2024-04-27T00:00:00",
          "2024-04-29T00:00:00",
          "2024-04-30T00:00:00",
          "2024-05-02T00:00:00",
          "2024-05-03T00:00:00",
          "2024-05-04T00:00:00",
          "2024-05-06T00:00:00",
          "2024-05-07T00:00:00",
          "2024-05-08T00:00:00",
          "2024-05-09T00:00:00",
          "2024-05-10T00:00:00",
          "2024-05-11T00:00:00",
          "2024-05-13T00:00:00",
          "2024-05-14T00:00:00",
          "2024-05-15T00:00:00",
          "2024-05-16T00:00:00",
          "2024-05-17T00:00:00",
          "2024-05-18T00:00:00",
          "2024-05-20T00:00:00",
          "2024-05-21T00:00:00",
          "2024-05-22T00:00:00",
          "2024-05-23T00:00:00"
         ],
         "y": [
          1901.8,
          1679.7,
          1373.3,
          1052.2,
          1007.1,
          132.5,
          412.5,
          1100.6,
          1583.9,
          561.8,
          1537.5,
          611.7,
          910.1,
          1907.2,
          1648.9,
          1525.6,
          825.8,
          166.1,
          1364.1,
          2091.3,
          219.1,
          914.6,
          485.7,
          108.8,
          720,
          1875.08,
          843.6,
          1007.4,
          745.3,
          122.9
         ]
        },
        {
         "customdata": [
          [
           "-91,00"
          ],
          [
           "-343,00"
          ],
          [
           "-496,50"
          ],
          [
           "-817,70"
          ],
          [
           "-132,50"
          ],
          [
           "-742,20"
          ],
          [
           "-1 735,80"
          ],
          [
           "-916,80"
          ],
          [
           "-1 584,60"
          ],
          [
           "-1 345,90"
          ],
          [
           "-2 429,00"
          ],
          [
           "-1 227,50"
          ],
          [
           "-1 450,40"
          ],
          [
           "-2 788,40"
          ],
          [
           "-1 338,90"
          ],
          [
           "-1 428,30"
          ],
          [
           "-1 001,30"
          ],
          [
           "-308,50"
          ],
          [
           "-819,80"
          ],
          [
           "-1 108,00"
          ],
          [
           "-160,00"
          ],
          [
           "-229,50"
          ],
          [
           "-266,00"
          ],
          [
           "-113,50"
          ],
          [
           "-223,00"
          ],
          [
           "-880,90"
          ],
          [
           "-744,00"
          ],
          [
           "-1 313,10"
          ],
          [
           "-604,00"
          ],
          [
           "-80,00"
          ]
         ],
         "hovertemplate": "<b>R$ %{customdata[0]}</b>",
         "marker": {
          "color": "#478eff"
         },
         "name": "Abatimentos",
         "offsetgroup": "0",
         "type": "bar",
         "x": [
          "2024-04-18T00:00:00",
          "2024-04-19T00:00:00",
          "2024-04-20T00:00:00",
          "2024-04-22T00:00:00",
          "2024-04-23T00:00:00",
          "2024-04-24T00:00:00",
          "2024-04-25T00:00:00",
          "2024-04-26T00:00:00",
          "2024-04-27T00:00:00",
          "2024-04-29T00:00:00",
          "2024-04-30T00:00:00",
          "2024-05-02T00:00:00",
          "2024-05-03T00:00:00",
          "2024-05-04T00:00:00",
          "2024-05-06T00:00:00",
          "2024-05-07T00:00:00",
          "2024-05-08T00:00:00",
          "2024-05-09T00:00:00",
          "2024-05-10T00:00:00",
          "2024-05-11T00:00:00",
          "2024-05-13T00:00:00",
          "2024-05-14T00:00:00",
          "2024-05-15T00:00:00",
          "2024-05-16T00:00:00",
          "2024-05-17T00:00:00",
          "2024-05-18T00:00:00",
          "2024-05-20T00:00:00",
          "2024-05-21T00:00:00",
          "2024-05-22T00:00:00",
          "2024-05-23T00:00:00"
         ],
         "y": [
          -91,
          -343,
          -496.5,
          -817.7,
          -132.5,
          -742.2,
          -1735.8,
          -916.8,
          -1584.6,
          -1345.9,
          -2429,
          -1227.5,
          -1450.4,
          -2788.4,
          -1338.9,
          -1428.3,
          -1001.3,
          -308.5,
          -819.8,
          -1108,
          -160,
          -229.5,
          -266,
          -113.5,
          -223,
          -880.9,
          -744,
          -1313.1,
          -604,
          -80
         ]
        }
       ],
       "layout": {
        "hovermode": "x unified",
        "margin": {
         "b": 0,
         "l": 0,
         "r": 0,
         "t": 0
        },
        "showlegend": false,
        "template": {
         "data": {
          "scatter": [
           {
            "type": "scatter"
           }
          ]
         }
        },
        "xaxis": {
         "tickmode": "array",
         "ticktext": [
          "18 de abril de 2024",
          "19 de abril de 2024",
          "20 de abril de 2024",
          "22 de abril de 2024",
          "23 de abril de 2024",
          "24 de abril de 2024",
          "25 de abril de 2024",
          "26 de abril de 2024",
          "27 de abril de 2024",
          "29 de abril de 2024",
          "30 de abril de 2024",
          "02 de maio de 2024",
          "03 de maio de 2024",
          "04 de maio de 2024",
          "06 de maio de 2024",
          "07 de maio de 2024",
          "08 de maio de 2024",
          "09 de maio de 2024",
          "10 de maio de 2024",
          "11 de maio de 2024",
          "13 de maio de 2024",
          "14 de maio de 2024",
          "15 de maio de 2024",
          "16 de maio de 2024",
          "17 de maio de 2024",
          "18 de maio de 2024",
          "20 de maio de 2024",
          "21 de maio de 2024",
          "22 de maio de 2024",
          "23 de maio de 2024"
         ],
         "tickvals": [
          "2024-04-18T00:00:00",
          "2024-04-19T00:00:00",
          "2024-04-20T00:00:00",
          "2024-04-22T00:00:00",
          "2024-04-23T00:00:00",
          "2024-04-24T00:00:00",
          "2024-04-25T00:00:00",
          "2024-04-26T00:00:00",
          "2024-04-27T00:00:00",
          "2024-04-29T00:00:00",
          "2024-04-30T00:00:00",
          "2024-05-02T00:00:00",
          "2024-05-03T00:00:00",
          "2024-05-04T00:00:00",
          "2024-05-06T00:00:00",
          "2024-05-07T00:00:00",
          "2024-05-08T00:00:00",
          "2024-05-09T00:00:00",
          "2024-05-10T00:00:00",
          "2024-05-11T00:00:00",
          "2024-05-13T00:00:00",
          "2024-05-14T00:00:00",
          "2024-05-15T00:00:00",
          "2024-05-16T00:00:00",
          "2024-05-17T00:00:00",
          "2024-05-18T00:00:00",
          "2024-05-20T00:00:00",
          "2024-05-21T00:00:00",
          "2024-05-22T00:00:00",
          "2024-05-23T00:00:00"
         ]
        }
       }
      }
     },
     "metadata": {},
     "output_type": "display_data"
    }
   ],
   "source": [
    "### balancos_por_periodo\n",
    "periodo = \"dia\"\n",
    "n = 30\n",
    "\n",
    "tbl = db.saldos_transac_periodo(periodo=periodo, n=n)\n",
    "if periodo == \"sem\":\n",
    "    tbl[\"Data\"] = tbl[\"Data\"].apply(lambda x: datetime.strptime(x+\"-0\", \"%Y-%W-%w\"))\n",
    "tbl[\"Data\"] = pd.to_datetime(tbl.Data)\n",
    "tbl[\"SomasDisplay\"] = tbl[\"Somas\"]\\\n",
    "    .apply(lambda x: f\"{x:_.2f}\".replace(\".\", \",\").replace(\"_\", \" \"))\n",
    "tbl[\"AbatDisplay\"] = tbl[\"Abatimentos\"]\\\n",
    "    .apply(lambda x: f\"{x:_.2f}\".replace(\".\", \",\").replace(\"_\", \" \"))\n",
    "\n",
    "datestr = \"%B de %Y\"\n",
    "if periodo == \"dia\":\n",
    "    datestr = \"%d de %B de %Y\"\n",
    "elif periodo == \"sem\":\n",
    "    datestr = \"%Y, semana %W\"\n",
    "\n",
    "layout = pg.Layout(\n",
    "    margin=dict(l=0, r=0, t=0, b=0),\n",
    "    template=\"none\",\n",
    "    showlegend=False,\n",
    "    hovermode=\"x unified\",\n",
    "    xaxis=dict(\n",
    "        tickmode=\"array\",\n",
    "        tickvals=[i for i in tbl[\"Data\"]],\n",
    "        ticktext=[i.strftime(datestr) for i in tbl[\"Data\"]]\n",
    "    )\n",
    ")\n",
    "\n",
    "fig = pg.Figure(layout=layout)\n",
    "fig.add_trace(pg.Bar(\n",
    "    x=tbl[\"Data\"], y=tbl[\"Somas\"], name=\"Somas\",\n",
    "    customdata=tbl[[\"SomasDisplay\"]],\n",
    "    hovertemplate=\"<b>R$ %{customdata[0]}</b>\",\n",
    "    offsetgroup=0,\n",
    "    marker=dict(color=CORES[1])\n",
    "))\n",
    "fig.add_trace(pg.Bar(\n",
    "    x=tbl[\"Data\"], y=tbl[\"Abatimentos\"], name=\"Abatimentos\",\n",
    "    customdata=tbl[[\"AbatDisplay\"]],\n",
    "    hovertemplate=\"<b>R$ %{customdata[0]}</b>\",\n",
    "    offsetgroup=0,\n",
    "    marker=dict(color=CORES[0])\n",
    "))\n",
    "fig.show(config={\"displayModeBar\": False})"
   ]
  },
  {
   "cell_type": "code",
   "execution_count": 17,
   "metadata": {},
   "outputs": [
    {
     "data": {
      "application/vnd.plotly.v1+json": {
       "config": {
        "displayModeBar": false,
        "plotlyServerURL": "https://plot.ly"
       },
       "data": [
        {
         "customdata": [
          [
           "17 307,20"
          ],
          [
           "17 737,50"
          ],
          [
           "18 365,10"
          ],
          [
           "18 662,50"
          ],
          [
           "18 868,40"
          ],
          [
           "19 209,30"
          ],
          [
           "21 620,10"
          ],
          [
           "22 182,20"
          ],
          [
           "23 300,60"
          ],
          [
           "24 040,90"
          ],
          [
           "24 498,80"
          ],
          [
           "25 118,80"
          ],
          [
           "25 735,90"
          ],
          [
           "28 361,00"
          ],
          [
           "30 114,80"
          ],
          [
           "32 035,50"
          ],
          [
           "32 483,90"
          ],
          [
           "36 209,70"
          ],
          [
           "40 676,30"
          ],
          [
           "42 704,70"
          ],
          [
           "49 003,40"
          ],
          [
           "57 749,50"
          ],
          [
           "69 935,50"
          ],
          [
           "81 934,70"
          ],
          [
           "89 099,40"
          ],
          [
           "88 458,60"
          ],
          [
           "84 745,70"
          ],
          [
           "86 362,70"
          ],
          [
           "88 813,08"
          ],
          [
           "88 791,18"
          ]
         ],
         "hovertemplate": "<b>R$ %{customdata[0]}</b>",
         "marker": {
          "color": "#478eff"
         },
         "mode": "lines+markers",
         "name": "Saldo",
         "offsetgroup": "0",
         "type": "scatter",
         "x": [
          "2023-11-05T00:00:00",
          "2023-11-12T00:00:00",
          "2023-11-19T00:00:00",
          "2023-11-26T00:00:00",
          "2023-12-03T00:00:00",
          "2023-12-10T00:00:00",
          "2023-12-17T00:00:00",
          "2023-12-24T00:00:00",
          "2023-12-31T00:00:00",
          "2024-01-07T00:00:00",
          "2024-01-14T00:00:00",
          "2024-01-21T00:00:00",
          "2024-01-28T00:00:00",
          "2024-02-04T00:00:00",
          "2024-02-11T00:00:00",
          "2024-02-18T00:00:00",
          "2024-02-25T00:00:00",
          "2024-03-03T00:00:00",
          "2024-03-10T00:00:00",
          "2024-03-17T00:00:00",
          "2024-03-24T00:00:00",
          "2024-03-31T00:00:00",
          "2024-04-07T00:00:00",
          "2024-04-14T00:00:00",
          "2024-04-21T00:00:00",
          "2024-04-28T00:00:00",
          "2024-05-05T00:00:00",
          "2024-05-12T00:00:00",
          "2024-05-19T00:00:00",
          "2024-05-26T00:00:00"
         ],
         "y": [
          17307.199999999997,
          17737.499999999996,
          18365.099999999995,
          18662.499999999996,
          18868.399999999998,
          19209.3,
          21620.1,
          22182.199999999997,
          23300.6,
          24040.899999999998,
          24498.8,
          25118.8,
          25735.899999999998,
          28360.999999999996,
          30114.799999999996,
          32035.499999999996,
          32483.899999999998,
          36209.7,
          40676.299999999996,
          42704.7,
          49003.399999999994,
          57749.49999999999,
          69935.5,
          81934.7,
          89099.4,
          88458.59999999999,
          84745.7,
          86362.7,
          88813.08,
          88791.18000000001
         ]
        }
       ],
       "layout": {
        "hovermode": "x unified",
        "margin": {
         "b": 0,
         "l": 0,
         "r": 0,
         "t": 0
        },
        "showlegend": false,
        "template": {
         "data": {
          "scatter": [
           {
            "type": "scatter"
           }
          ]
         }
        },
        "xaxis": {
         "showgrid": false,
         "tickmode": "array",
         "ticktext": [
          "2023, semana 44",
          "2023, semana 45",
          "2023, semana 46",
          "2023, semana 47",
          "2023, semana 48",
          "2023, semana 49",
          "2023, semana 50",
          "2023, semana 51",
          "2023, semana 52",
          "2024, semana 01",
          "2024, semana 02",
          "2024, semana 03",
          "2024, semana 04",
          "2024, semana 05",
          "2024, semana 06",
          "2024, semana 07",
          "2024, semana 08",
          "2024, semana 09",
          "2024, semana 10",
          "2024, semana 11",
          "2024, semana 12",
          "2024, semana 13",
          "2024, semana 14",
          "2024, semana 15",
          "2024, semana 16",
          "2024, semana 17",
          "2024, semana 18",
          "2024, semana 19",
          "2024, semana 20",
          "2024, semana 21"
         ],
         "tickvals": [
          "2023-11-05T00:00:00",
          "2023-11-12T00:00:00",
          "2023-11-19T00:00:00",
          "2023-11-26T00:00:00",
          "2023-12-03T00:00:00",
          "2023-12-10T00:00:00",
          "2023-12-17T00:00:00",
          "2023-12-24T00:00:00",
          "2023-12-31T00:00:00",
          "2024-01-07T00:00:00",
          "2024-01-14T00:00:00",
          "2024-01-21T00:00:00",
          "2024-01-28T00:00:00",
          "2024-02-04T00:00:00",
          "2024-02-11T00:00:00",
          "2024-02-18T00:00:00",
          "2024-02-25T00:00:00",
          "2024-03-03T00:00:00",
          "2024-03-10T00:00:00",
          "2024-03-17T00:00:00",
          "2024-03-24T00:00:00",
          "2024-03-31T00:00:00",
          "2024-04-07T00:00:00",
          "2024-04-14T00:00:00",
          "2024-04-21T00:00:00",
          "2024-04-28T00:00:00",
          "2024-05-05T00:00:00",
          "2024-05-12T00:00:00",
          "2024-05-19T00:00:00",
          "2024-05-26T00:00:00"
         ]
        }
       }
      }
     },
     "metadata": {},
     "output_type": "display_data"
    }
   ],
   "source": [
    "### saldos_por_periodo\n",
    "periodo = \"sem\"\n",
    "n = 30\n",
    "\n",
    "tbl = db.saldos_transac_periodo(periodo=periodo)\n",
    "if periodo == \"sem\":\n",
    "    tbl[\"Data\"] = tbl[\"Data\"].apply(lambda x: datetime.strptime(x+\"-0\", \"%Y-%W-%w\"))\n",
    "tbl[\"Data\"] = pd.to_datetime(tbl.Data)\n",
    "\n",
    "tbl[\"SaldoAcum\"] = (tbl[\"Somas\"] + tbl[\"Abatimentos\"]).cumsum()\n",
    "tbl[\"SaldoAcumDisplay\"] = tbl[\"SaldoAcum\"]\\\n",
    "    .apply(lambda x: f\"{x:_.2f}\".replace(\".\", \",\").replace(\"_\", \" \"))\n",
    "\n",
    "if n:\n",
    "    tbl = tbl.tail(n)\n",
    "\n",
    "datestr = \"%B de %Y\"\n",
    "if periodo == \"dia\":\n",
    "    datestr = \"%d de %B de %Y\"\n",
    "elif periodo == \"sem\":\n",
    "    datestr = \"%Y, semana %W\"\n",
    "\n",
    "layout = pg.Layout(\n",
    "    margin=dict(l=0, r=0, t=0, b=0),\n",
    "    template=\"none\",\n",
    "    showlegend=False,\n",
    "    hovermode=\"x unified\",\n",
    "    xaxis=dict(\n",
    "        tickmode=\"array\",\n",
    "        tickvals=[i for i in tbl[\"Data\"]],\n",
    "        ticktext=[i.strftime(datestr) for i in tbl[\"Data\"]]\n",
    "    )\n",
    ")\n",
    "\n",
    "fig = pg.Figure(layout=layout)\n",
    "fig.add_trace(pg.Scatter(\n",
    "    x=tbl[\"Data\"], y=tbl[\"SaldoAcum\"], name=\"Saldo\", \n",
    "    mode=\"lines+markers\", \n",
    "    customdata=tbl[[\"SaldoAcumDisplay\"]],\n",
    "    hovertemplate=\"<b>R$ %{customdata[0]}</b>\",\n",
    "    offsetgroup=0,\n",
    "    marker=dict(color=CORES[0])\n",
    "))\n",
    "fig.update_xaxes(showgrid=False)\n",
    "fig.show(config={\"displayModeBar\": False})"
   ]
  }
 ],
 "metadata": {
  "kernelspec": {
   "display_name": "venv",
   "language": "python",
   "name": "python3"
  },
  "language_info": {
   "codemirror_mode": {
    "name": "ipython",
    "version": 3
   },
   "file_extension": ".py",
   "mimetype": "text/x-python",
   "name": "python",
   "nbconvert_exporter": "python",
   "pygments_lexer": "ipython3",
   "version": "3.12.3"
  }
 },
 "nbformat": 4,
 "nbformat_minor": 2
}
